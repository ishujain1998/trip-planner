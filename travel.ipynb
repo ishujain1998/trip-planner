{
 "cells": [
  {
   "cell_type": "code",
   "execution_count": 1,
   "id": "ff8aaa34-c97a-42b8-a856-742725724d8c",
   "metadata": {
    "tags": []
   },
   "outputs": [
    {
     "name": "stdout",
     "output_type": "stream",
     "text": [
      "Welcome! We're your dedicated travel-planning team, ready to help you craft the perfect adventure.\n",
      "\n",
      "It looks like you're ready to provide us with your travel details"
     ]
    }
   ],
   "source": [
    "from google import genai\n",
    "from google.genai import types\n",
    "import os\n",
    "\n",
    "def generate_vertex():\n",
    "    client = genai.Client(\n",
    "        vertexai=True,\n",
    "        project=\"adept-crossing-471906-n4\",\n",
    "        location=\"us-central1\"   # or your region\n",
    "    )\n",
    "\n",
    "    msg = types.Part.from_text(text=\"Short prompt or full user input here\")\n",
    "    system_instr = types.Part.from_text(text=\"You are a travel-planning team...\")\n",
    "\n",
    "    contents = [\n",
    "        types.Content(role=\"user\", parts=[msg]),\n",
    "    ]\n",
    "\n",
    "    cfg = types.GenerateContentConfig(\n",
    "        temperature=1.0,\n",
    "        top_p=0.95,\n",
    "        max_output_tokens=1024,\n",
    "        response_modalities=[\"TEXT\"],            # use [\"TEXT\",\"IMAGE\"] only if model supports image output\n",
    "        system_instruction=system_instr\n",
    "    )\n",
    "\n",
    "    for chunk in client.models.generate_content_stream(\n",
    "        model=\"gemini-2.5-flash\",   # safer baseline. Use image-preview only if you have access.\n",
    "        contents=contents,\n",
    "        config=cfg,\n",
    "    ):\n",
    "        print(chunk.text, end=\"\")\n",
    "\n",
    "if __name__ == \"__main__\":\n",
    "    generate_vertex()"
   ]
  },
  {
   "cell_type": "code",
   "execution_count": null,
   "id": "f4eb2837-a9c7-46d5-9f15-da044cafe789",
   "metadata": {},
   "outputs": [],
   "source": []
  }
 ],
 "metadata": {
  "environment": {
   "kernel": "conda-base-py",
   "name": "workbench-notebooks.m133",
   "type": "gcloud",
   "uri": "us-docker.pkg.dev/deeplearning-platform-release/gcr.io/workbench-notebooks:m133"
  },
  "kernelspec": {
   "display_name": "Python 3 (ipykernel) (Local)",
   "language": "python",
   "name": "conda-base-py"
  },
  "language_info": {
   "codemirror_mode": {
    "name": "ipython",
    "version": 3
   },
   "file_extension": ".py",
   "mimetype": "text/x-python",
   "name": "python",
   "nbconvert_exporter": "python",
   "pygments_lexer": "ipython3",
   "version": "3.10.18"
  }
 },
 "nbformat": 4,
 "nbformat_minor": 5
}
